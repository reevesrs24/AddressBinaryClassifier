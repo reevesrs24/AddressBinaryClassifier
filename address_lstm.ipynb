{
  "cells": [
    {
      "cell_type": "code",
      "execution_count": 1,
      "metadata": {
        "id": "iHDPFA6aT8wL"
      },
      "outputs": [],
      "source": [
        "import torch\n",
        "import string\n",
        "import time\n",
        "import math\n",
        "import random\n",
        "import unicodedata\n",
        "import torch.nn as nn\n",
        "import pandas as pd\n",
        "import torch.optim as optim\n",
        "import matplotlib.pyplot as plt\n",
        "\n",
        "device = torch.device(\"cuda:0\" if torch.cuda.is_available() else \"cpu\")"
      ]
    },
    {
      "cell_type": "code",
      "execution_count": 2,
      "metadata": {
        "id": "WX9TO0IfEvk6"
      },
      "outputs": [],
      "source": [
        "class LSTM(nn.Module):\n",
        "  def __init__(self, input_dim, hidden_dim, fc_hidden_dim):\n",
        "    super().__init__()\n",
        "    self.hidden_size = hidden_dim\n",
        "    self.lstm = nn.LSTM(input_size=input_dim, hidden_size=hidden_dim, batch_first=True)\n",
        "    self.fc1 = nn.Linear(hidden_dim, fc_hidden_dim)\n",
        "    self.relu = nn.ReLU()\n",
        "    self.fc2 = nn.Linear(fc_hidden_dim, 1)\n",
        "    self.sigmoid = nn.Sigmoid()\n",
        "\n",
        "  def forward(self, input, hidden):\n",
        "    out, hidden = self.lstm(input.view(1, 1, -1), hidden)\n",
        "    out = self.fc1(hidden[0])\n",
        "    out = self.relu(out)\n",
        "    out = self.fc2(out)\n",
        "    out = self.sigmoid(out)\n",
        "    return out.view(1, -1), hidden\n",
        "\n",
        "  def init_hidden(self):\n",
        "    return (torch.zeros(1, 1, self.hidden_size).to(device), torch.zeros(1, 1, self.hidden_size).to(device))"
      ]
    },
    {
      "cell_type": "code",
      "execution_count": 3,
      "metadata": {
        "id": "cdjMREIh5OYi"
      },
      "outputs": [],
      "source": [
        "dataset = []\n",
        "\n",
        "df = pd.read_csv('address_dataset.csv')\n",
        "for index, row in df.iterrows():\n",
        "  dataset.append((row['text'], row['label']))\n",
        "\n",
        "random.shuffle(dataset)"
      ]
    },
    {
      "cell_type": "code",
      "execution_count": 4,
      "metadata": {
        "id": "4ueV28RIl97T"
      },
      "outputs": [],
      "source": [
        "all_letters = string.ascii_letters + \" #.,;'\"\n",
        "n_letters = len(all_letters)\n",
        "\n",
        "# Turn a Unicode string to plain ASCII, \n",
        "# thanks to https://stackoverflow.com/a/518232/2809427\n",
        "def unicodeToAscii(s):\n",
        "    return ''.join(\n",
        "        c for c in unicodedata.normalize('NFD', s)\n",
        "        if unicodedata.category(c) != 'Mn'\n",
        "        and c in all_letters\n",
        "    )\n",
        "\n",
        "def letterToIndex(letter):\n",
        "    return all_letters.find(letter)\n",
        "\n",
        "def normalize(line):\n",
        "    if type(line) != str:\n",
        "      return \" \"\n",
        "    line = line.replace(',', '')\n",
        "    line = line.lower()\n",
        "    return line\n",
        "\n",
        "def letterToTensor(letter):\n",
        "    tensor = torch.zeros(1, n_letters)\n",
        "    tensor[0][letterToIndex(letter)] = 1\n",
        "    return tensor\n",
        "\n",
        "def lineToTensor(line):\n",
        "    line = normalize(line)\n",
        "    tensor = torch.zeros(len(line), 1, n_letters)\n",
        "    for li, letter in enumerate(line):\n",
        "        tensor[li][0][letterToIndex(letter)] = 1\n",
        "    return tensor"
      ]
    },
    {
      "cell_type": "markdown",
      "metadata": {
        "id": "WrHZLtFD-nrT"
      },
      "source": []
    },
    {
      "cell_type": "code",
      "execution_count": 5,
      "metadata": {
        "id": "Hl8BXHo1rB_U"
      },
      "outputs": [],
      "source": [
        "n_hidden = 128\n",
        "n_hidden_2 = 64\n",
        "\n",
        "lstm = LSTM(n_letters, n_hidden, n_hidden_2)\n",
        "lstm.to(device)\n",
        "loss_fn = nn.BCELoss()\n",
        "optimizer = optim.Adam(lstm.parameters(), lr=0.0001)\n",
        "\n",
        "def train(batch):\n",
        "    optimizer.zero_grad()\n",
        "\n",
        "    for b in batch:\n",
        "      text, label = b\n",
        "      text_tensor = lineToTensor(text)\n",
        "      label_tensor = torch.tensor([[label]], dtype=torch.float).to(device)\n",
        "\n",
        "\n",
        "      hidden = lstm.init_hidden()\n",
        "      for i in range(text_tensor.size()[0]):\n",
        "          output, hidden = lstm(text_tensor[i].to(device), hidden)\n",
        "\n",
        "      loss = loss_fn(output.to(device), label_tensor)\n",
        "\n",
        "      loss.backward()\n",
        "\n",
        "    optimizer.step()\n",
        "\n",
        "\n",
        "    return output, loss.item()"
      ]
    },
    {
      "cell_type": "code",
      "execution_count": 6,
      "metadata": {
        "colab": {
          "base_uri": "https://localhost:8080/"
        },
        "id": "EPjQDEfrrHym",
        "outputId": "63dd882a-1f20-44f4-f251-a4020a543de9"
      },
      "outputs": [
        {
          "output_type": "stream",
          "name": "stdout",
          "text": [
            "Loss: 0.7393369078636169\n",
            "Loss: 0.6514319868683816\n",
            "Loss: 0.42718880547024307\n",
            "Loss: 0.40389058824640234\n",
            "Loss: 0.3975895543542574\n",
            "Loss: 0.34313902793056333\n",
            "Loss: 0.37323609669983854\n",
            "Loss: 0.3210836818691751\n",
            "Loss: 0.31337956982752074\n",
            "Loss: 0.35774919338517247\n",
            "Loss: 0.23809909651301858\n",
            "Loss: 0.19596880793968124\n",
            "Loss: 0.20174430410038052\n",
            "Loss: 0.13366474914424453\n",
            "Loss: 0.1817590011989544\n",
            "Loss: 0.1423165721869792\n",
            "Loss: 0.1566551560374586\n",
            "Loss: 0.13364807342615864\n",
            "Loss: 0.08308641471415132\n",
            "Loss: 0.09104247872057698\n",
            "Loss: 0.11406096869220642\n",
            "Loss: 0.09037867030942516\n",
            "Loss: 0.06927300994560466\n",
            "Loss: 0.05826734656913152\n"
          ]
        }
      ],
      "source": [
        "# Keep track of losses for plotting\n",
        "all_losses = []\n",
        "batches = 6000\n",
        "\n",
        "lstm.train()\n",
        "\n",
        "train_size = int(0.8 * len(dataset))\n",
        "test_size = len(dataset) - train_size\n",
        "\n",
        "train_dataset, test_dataset = torch.utils.data.random_split(dataset, [train_size, test_size])\n",
        "\n",
        "total_loss = 0\n",
        "train_dataset = list(train_dataset)\n",
        "\n",
        "for i in range(batches):\n",
        "    batch = random.sample(train_dataset, 64)\n",
        "    output, loss = train(batch)\n",
        "    total_loss += loss\n",
        "\n",
        "    if i % 250 == 0:\n",
        "      avg_loss = total_loss / 250 if i != 0 else total_loss\n",
        "      print(\"Loss: {}\".format(avg_loss))\n",
        "      all_losses.append(avg_loss)\n",
        "      total_loss = 0\n"
      ]
    },
    {
      "cell_type": "code",
      "source": [
        "def evaluate(line_tensor):\n",
        "    hidden = lstm.init_hidden()\n",
        "    \n",
        "    for i in range(line_tensor.size()[0]):\n",
        "        output, hidden = lstm(line_tensor[i], hidden)\n",
        "\n",
        "    return output\n",
        "\n",
        "def test(test_inputs):\n",
        "  correct = 0\n",
        "  with torch.no_grad():\n",
        "    for test in test_inputs:\n",
        "\n",
        "      text, label = test\n",
        "      output = evaluate(lineToTensor(text).to(device))\n",
        "\n",
        "      pred = 1 if output.item() >= 0.5 else 0\n",
        "\n",
        "      if pred == label:\n",
        "        correct += 1\n",
        "  \n",
        "  print(\"Accuracy: {}\".format(correct / len(test_dataset)))\n",
        "\n",
        "\n",
        "test(test_dataset)"
      ],
      "metadata": {
        "id": "7fSi9xiWROs-",
        "colab": {
          "base_uri": "https://localhost:8080/"
        },
        "outputId": "2270ee98-e219-411a-d093-f7b84a842c9e"
      },
      "execution_count": 7,
      "outputs": [
        {
          "output_type": "stream",
          "name": "stdout",
          "text": [
            "Accuracy: 0.9704660219501742\n"
          ]
        }
      ]
    },
    {
      "cell_type": "code",
      "execution_count": 8,
      "metadata": {
        "id": "7-yriU7EyJsJ",
        "colab": {
          "base_uri": "https://localhost:8080/",
          "height": 282
        },
        "outputId": "2f36aa77-6318-43b9-c9c4-e29f0c51fd1f"
      },
      "outputs": [
        {
          "output_type": "execute_result",
          "data": {
            "text/plain": [
              "[<matplotlib.lines.Line2D at 0x7f361060fc10>]"
            ]
          },
          "metadata": {},
          "execution_count": 8
        },
        {
          "output_type": "display_data",
          "data": {
            "text/plain": [
              "<Figure size 432x288 with 1 Axes>"
            ],
            "image/png": "[encoded data removed]"
          },
          "metadata": {
            "needs_background": "light"
          }
        }
      ],
      "source": [
        "plt.figure()\n",
        "plt.plot(all_losses)"
      ]
    },
    {
      "cell_type": "code",
      "execution_count": 9,
      "metadata": {
        "id": "rJ3LA7-2zo5w",
        "colab": {
          "base_uri": "https://localhost:8080/"
        },
        "outputId": "150dca28-2204-4624-b567-5a3c77dbc60b"
      },
      "outputs": [
        {
          "output_type": "stream",
          "name": "stdout",
          "text": [
            "Good Data\n",
            "====================\n",
            "1600 Pennsylvania Avenue, Washington DC 20500\n",
            "0.9939870834350586\n",
            "\n",
            "10 3Rd Street Northwest Graysville AL 35073\n",
            "0.9946637153625488\n",
            "\n",
            "12794 Columbia Ave. Yucaipa CA 92399\n",
            "0.9937145113945007\n",
            "\n",
            "Bad Data\n",
            "====================\n",
            "dfasdfa sfdasfds afas\n",
            "1.8009475297731115e-06\n",
            "\n",
            "Hey hey my my rock'n roll can never die\n",
            "0.0038344301283359528\n",
            "\n",
            "1600, Washington DC 20500\n",
            "0.0007663015858270228\n",
            "\n",
            "1600 Pennsylvania Avenue, Washington DC\n",
            "8.691487892065197e-05\n",
            "\n",
            "B107 15821 E 4th avenue Spokane Valley WA 36206\n",
            "0.015284291468560696\n",
            "\n",
            "Pennsylvania Avenue, Washington 1600\n",
            "0.12631981074810028\n",
            "\n",
            "P.o.box333 Sebastian TX 78594\n",
            "0.050464946776628494\n",
            "\n",
            "1615 W. Harrison St.1615 W. Harrison St Freeport IL 61032\n",
            "0.0037117747124284506\n",
            "\n",
            "3325 11TH ST NW APT 8, Unit 8, Unit 8 Washington DC 20010\n",
            "0.0014020116068422794\n",
            "\n",
            "10446 briarcliff rd south jacksonville florida 32218 Springfield TN 37175\n",
            "0.005935974419116974\n",
            "\n"
          ]
        }
      ],
      "source": [
        "def predict(input_line):\n",
        "    print(\"{}\".format(input_line))\n",
        "    with torch.no_grad():\n",
        "        output = evaluate(lineToTensor(input_line).to(device))\n",
        "        print(output.item())\n",
        "        print()\n",
        "\n",
        "print('Good Data')\n",
        "print('='*20)\n",
        "predict('1600 Pennsylvania Avenue, Washington DC 20500')\n",
        "predict('10 3Rd Street Northwest Graysville AL 35073')\n",
        "predict('12794 Columbia Ave. Yucaipa CA 92399')\n",
        "\n",
        "print('Bad Data')\n",
        "print('='*20)\n",
        "predict('dfasdfa sfdasfds afas')\n",
        "predict('Hey hey my my rock\\'n roll can never die')\n",
        "predict('1600, Washington DC 20500')\n",
        "predict('1600 Pennsylvania Avenue, Washington DC')\n",
        "predict('B107 15821 E 4th avenue Spokane Valley WA 36206')\n",
        "predict('Pennsylvania Avenue, Washington 1600')\n",
        "predict('P.o.box333 Sebastian TX 78594')\n",
        "predict('1615 W. Harrison St.1615 W. Harrison St Freeport IL 61032')\n",
        "predict('3325 11TH ST NW APT 8, Unit 8, Unit 8 Washington DC 20010')\n",
        "predict('10446 briarcliff rd south jacksonville florida 32218 Springfield TN 37175')"
      ]
    },
    {
      "cell_type": "code",
      "source": [
        "torch.save({\n",
        "            'batch': 5000,\n",
        "            'model_state_dict': lstm.state_dict(),\n",
        "            'optimizer_state_dict': optimizer.state_dict(),\n",
        "            'loss': loss,\n",
        "            }, 'checkpoint.pt')"
      ],
      "metadata": {
        "id": "j2l_EHM6G33c"
      },
      "execution_count": 10,
      "outputs": []
    },
    {
      "cell_type": "code",
      "source": [
        "# checkpoint = torch.load('checkpoint.pt')\n",
        "# lstm.load_state_dict(checkpoint['model_state_dict'])\n",
        "# optimizer.load_state_dict(checkpoint['optimizer_state_dict'])\n",
        "# batch = checkpoint['batch']\n",
        "# loss = checkpoint['loss']"
      ],
      "metadata": {
        "id": "D1h1VyLoG97M"
      },
      "execution_count": 11,
      "outputs": []
    }
  ],
  "metadata": {
    "colab": {
      "provenance": [],
      "collapsed_sections": []
    },
    "kernelspec": {
      "display_name": "Python 3",
      "name": "python3"
    },
    "language_info": {
      "name": "python"
    },
    "accelerator": "GPU"
  },
  "nbformat": 4,
  "nbformat_minor": 0
}