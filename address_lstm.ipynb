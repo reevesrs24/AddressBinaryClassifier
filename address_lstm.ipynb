{
  "cells": [
    {
      "cell_type": "code",
      "execution_count": 1,
      "metadata": {
        "id": "iHDPFA6aT8wL"
      },
      "outputs": [],
      "source": [
        "import torch\n",
        "import string\n",
        "import time\n",
        "import math\n",
        "import random\n",
        "import unicodedata\n",
        "import torch.nn as nn\n",
        "import pandas as pd\n",
        "import torch.optim as optim"
      ]
    },
    {
      "cell_type": "markdown",
      "metadata": {
        "id": "htH7EllWeBRo"
      },
      "source": []
    },
    {
      "cell_type": "code",
      "execution_count": 2,
      "metadata": {
        "id": "WX9TO0IfEvk6"
      },
      "outputs": [],
      "source": [
        "class LSTM(nn.Module):\n",
        "  def __init__(self, input_dim, hidden_dim, fc_hidden_dim):\n",
        "    super().__init__()\n",
        "    self.hidden_size = hidden_dim\n",
        "    self.lstm = nn.LSTM(input_size=input_dim, hidden_size=hidden_dim, batch_first=True)\n",
        "    self.fc1 = nn.Linear(hidden_dim, fc_hidden_dim)\n",
        "    self.relu = nn.ReLU()\n",
        "    self.fc2 = nn.Linear(fc_hidden_dim, 1)\n",
        "    self.sigmoid = nn.Sigmoid()\n",
        "\n",
        "  def forward(self, input, hidden):\n",
        "    out, hidden = self.lstm(input.view(1, 1, -1), hidden)\n",
        "    out = self.fc1(hidden[0])\n",
        "    out = self.relu(out)\n",
        "    out = self.fc2(out)\n",
        "    out = self.sigmoid(out)\n",
        "    return out.view(1, -1), hidden\n",
        "\n",
        "  def init_hidden(self):\n",
        "    return (torch.zeros(1, 1, self.hidden_size).cuda(), torch.zeros(1, 1, self.hidden_size).cuda())\n",
        "    #return (torch.zeros(1, 1, self.hidden_size), torch.zeros(1, 1, self.hidden_size))"
      ]
    },
    {
      "cell_type": "code",
      "execution_count": 3,
      "metadata": {
        "id": "cdjMREIh5OYi"
      },
      "outputs": [],
      "source": [
        "inputs = []\n",
        "\n",
        "df = pd.read_csv('address_dataset.csv')\n",
        "for index, row in df.iterrows():\n",
        "  inputs.append((row['text'], row['label']))\n",
        "\n",
        "random.shuffle(inputs)"
      ]
    },
    {
      "cell_type": "code",
      "execution_count": 4,
      "metadata": {
        "id": "4ueV28RIl97T"
      },
      "outputs": [],
      "source": [
        "all_letters = string.ascii_letters + \" #.,;'\"\n",
        "n_letters = len(all_letters)\n",
        "\n",
        "# Turn a Unicode string to plain ASCII, \n",
        "# thanks to https://stackoverflow.com/a/518232/2809427\n",
        "def unicodeToAscii(s):\n",
        "    return ''.join(\n",
        "        c for c in unicodedata.normalize('NFD', s)\n",
        "        if unicodedata.category(c) != 'Mn'\n",
        "        and c in all_letters\n",
        "    )\n",
        "\n",
        "def letterToIndex(letter):\n",
        "    return all_letters.find(letter)\n",
        "\n",
        "def normalize(line):\n",
        "    if type(line) != str:\n",
        "      return \" \"\n",
        "    line = line.replace(',', '')\n",
        "    line = line.lower()\n",
        "    return line\n",
        "\n",
        "def letterToTensor(letter):\n",
        "    tensor = torch.zeros(1, n_letters)\n",
        "    tensor[0][letterToIndex(letter)] = 1\n",
        "    return tensor\n",
        "\n",
        "def lineToTensor(line):\n",
        "    line = normalize(line)\n",
        "    tensor = torch.zeros(len(line), 1, n_letters)\n",
        "    for li, letter in enumerate(line):\n",
        "        tensor[li][0][letterToIndex(letter)] = 1\n",
        "    return tensor"
      ]
    },
    {
      "cell_type": "markdown",
      "metadata": {
        "id": "WrHZLtFD-nrT"
      },
      "source": []
    },
    {
      "cell_type": "code",
      "execution_count": 5,
      "metadata": {
        "id": "Hl8BXHo1rB_U"
      },
      "outputs": [],
      "source": [
        "device = torch.device(\"cuda:0\" if torch.cuda.is_available() else \"cpu\")\n",
        "\n",
        "n_hidden = 128\n",
        "n_hidden_2 = 64\n",
        "\n",
        "lstm = LSTM(n_letters, n_hidden, n_hidden_2)\n",
        "lstm.to(device)\n",
        "loss_fn = nn.BCELoss()\n",
        "optimizer = optim.Adam(lstm.parameters(), lr=0.0001)\n",
        "\n",
        "def train(batch):\n",
        "    optimizer.zero_grad()\n",
        "\n",
        "    for b in batch:\n",
        "      text, label = b\n",
        "      text_tensor = lineToTensor(text)\n",
        "      label_tensor = torch.tensor([[label]], dtype=torch.float).cuda()\n",
        "      #label_tensor = torch.tensor([[int(label)]], dtype=torch.float)\n",
        "\n",
        "\n",
        "      hidden = lstm.init_hidden()\n",
        "      for i in range(text_tensor.size()[0]):\n",
        "          output, hidden = lstm(text_tensor[i].cuda(), hidden)\n",
        "          #output, hidden = lstm(text_tensor[i], hidden)\n",
        "\n",
        "      loss = loss_fn(output.cuda(), label_tensor)\n",
        "      #loss = loss_fn(output, label_tensor)\n",
        "\n",
        "      loss.backward(retain_graph=True)\n",
        "\n",
        "    optimizer.step()\n",
        "\n",
        "\n",
        "    return output, loss.item()"
      ]
    },
    {
      "cell_type": "code",
      "execution_count": 6,
      "metadata": {
        "colab": {
          "base_uri": "https://localhost:8080/"
        },
        "id": "EPjQDEfrrHym",
        "outputId": "90d313ad-7a80-41cd-ed9e-8345ebc99acb"
      },
      "outputs": [
        {
          "output_type": "stream",
          "name": "stdout",
          "text": [
            "Loss: 0.6816672086715698\n",
            "Loss: 0.6395411944836378\n",
            "Loss: 0.36261180160939693\n",
            "Loss: 0.2834324840661138\n",
            "Loss: 0.22081350289145485\n",
            "Loss: 0.2529836379570188\n",
            "Loss: 0.12718925533111905\n",
            "Loss: 0.1846250510623795\n",
            "Loss: 0.12221045653481269\n",
            "Loss: 0.06357495969798038\n",
            "Loss: 0.07595419088330892\n",
            "Loss: 0.0653874916699042\n",
            "Loss: 0.05213879771315987\n",
            "Loss: 0.04904104520952751\n",
            "Loss: 0.06676399973138541\n",
            "Loss: 0.04857117062738325\n",
            "Loss: 0.0703171951669974\n",
            "Loss: 0.0494424190724676\n",
            "Loss: 0.013348228112878132\n",
            "Loss: 0.07989124331221684\n"
          ]
        }
      ],
      "source": [
        "# Keep track of losses for plotting\n",
        "all_losses = []\n",
        "batches = 5000\n",
        "\n",
        "lstm.train()\n",
        "\n",
        "train_size = int(0.8 * len(inputs))\n",
        "test_size = len(inputs) - train_size\n",
        "\n",
        "train_dataset, test_dataset = torch.utils.data.random_split(inputs, [train_size, test_size])\n",
        "\n",
        "total_loss = 0\n",
        "train_dataset = list(train_dataset)\n",
        "\n",
        "for i in range(batches):\n",
        "    batch = random.sample(train_dataset, 64)\n",
        "    output, loss = train(batch)\n",
        "    total_loss += loss\n",
        "\n",
        "    if i % 250 == 0:\n",
        "      avg_loss = total_loss / 250 if i != 0 else total_loss\n",
        "      print(\"Loss: {}\".format(avg_loss))\n",
        "      all_losses.append(avg_loss)\n",
        "      total_loss = 0\n"
      ]
    },
    {
      "cell_type": "code",
      "source": [
        "def evaluate(line_tensor):\n",
        "    hidden = lstm.init_hidden()\n",
        "    \n",
        "    for i in range(line_tensor.size()[0]):\n",
        "        output, hidden = lstm(line_tensor[i], hidden)\n",
        "\n",
        "    return output\n",
        "\n",
        "def test(test_inputs):\n",
        "  correct = 0\n",
        "  with torch.no_grad():\n",
        "    for test in test_inputs:\n",
        "\n",
        "      text, label = test\n",
        "      output = evaluate(lineToTensor(text).cuda())\n",
        "      #output = evaluate(lineToTensor(text))\n",
        "\n",
        "      pred = 1 if output.item() >= 0.5 else 0\n",
        "\n",
        "      if pred == label:\n",
        "        correct += 1\n",
        "  \n",
        "  print(\"Accuracy: {}\".format(correct / len(test_dataset)))\n",
        "\n",
        "\n",
        "test(test_dataset)"
      ],
      "metadata": {
        "id": "7fSi9xiWROs-",
        "colab": {
          "base_uri": "https://localhost:8080/"
        },
        "outputId": "76a37eaf-41b9-48ac-c09c-bf0e65098962"
      },
      "execution_count": 7,
      "outputs": [
        {
          "output_type": "stream",
          "name": "stdout",
          "text": [
            "Accuracy: 0.9897021276595744\n"
          ]
        }
      ]
    },
    {
      "cell_type": "code",
      "execution_count": 8,
      "metadata": {
        "id": "7-yriU7EyJsJ",
        "colab": {
          "base_uri": "https://localhost:8080/",
          "height": 282
        },
        "outputId": "bf7bc192-0c67-46fd-9bfd-fa88f88cfa52"
      },
      "outputs": [
        {
          "output_type": "execute_result",
          "data": {
            "text/plain": [
              "[<matplotlib.lines.Line2D at 0x7f49a05aa290>]"
            ]
          },
          "metadata": {},
          "execution_count": 8
        },
        {
          "output_type": "display_data",
          "data": {
            "text/plain": [
              "<Figure size 432x288 with 1 Axes>"
            ],
            "image/png": "[encoded data removed]"
          },
          "metadata": {
            "needs_background": "light"
          }
        }
      ],
      "source": [
        "import matplotlib.pyplot as plt\n",
        "import matplotlib.ticker as ticker\n",
        "\n",
        "plt.figure()\n",
        "plt.plot(all_losses)"
      ]
    },
    {
      "cell_type": "code",
      "execution_count": 9,
      "metadata": {
        "id": "rJ3LA7-2zo5w",
        "colab": {
          "base_uri": "https://localhost:8080/"
        },
        "outputId": "fbc45cb8-a21a-4835-8e6a-befe05a88b9c"
      },
      "outputs": [
        {
          "output_type": "stream",
          "name": "stdout",
          "text": [
            "dfasdfa sfdasfds afas\n",
            "3.90525528928265e-05\n",
            "Hey hey my my rock'n roll can never die\n",
            "0.0005658152513206005\n",
            "1600, Washington DC 20500\n",
            "0.002004491165280342\n",
            "Pennsylvania Avenue, Washington 1600\n",
            "0.0003000536817125976\n",
            "1600 Pennsylvania Avenue, Washington DC\n",
            "0.0004906374961137772\n",
            "1600 Pennsylvania Avenue, Washington DC 20500\n",
            "0.9960240125656128\n"
          ]
        }
      ],
      "source": [
        "def predict(input_line):\n",
        "    print(\"{}\".format(input_line))\n",
        "    with torch.no_grad():\n",
        "        output = evaluate(lineToTensor(input_line).cuda())\n",
        "        #output = evaluate(lineToTensor(input_line))\n",
        "        print(output.item())\n",
        "\n",
        "predict('dfasdfa sfdasfds afas')\n",
        "predict('Hey hey my my rock\\'n roll can never die')\n",
        "predict('1600, Washington DC 20500')\n",
        "predict('Pennsylvania Avenue, Washington 1600')\n",
        "predict('1600 Pennsylvania Avenue, Washington DC')\n",
        "predict('1600 Pennsylvania Avenue, Washington DC 20500')"
      ]
    }
  ],
  "metadata": {
    "colab": {
      "provenance": [],
      "collapsed_sections": []
    },
    "kernelspec": {
      "display_name": "Python 3",
      "name": "python3"
    },
    "language_info": {
      "name": "python"
    },
    "accelerator": "GPU"
  },
  "nbformat": 4,
  "nbformat_minor": 0
}